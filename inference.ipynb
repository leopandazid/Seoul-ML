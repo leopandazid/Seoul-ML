{
 "cells": [
  {
   "cell_type": "code",
   "execution_count": 1,
   "id": "e43fa526",
   "metadata": {},
   "outputs": [],
   "source": [
    "import pickle\n",
    "import os\n"
   ]
  },
  {
   "cell_type": "code",
   "execution_count": 2,
   "id": "471c90fb",
   "metadata": {},
   "outputs": [],
   "source": [
    "model_path= r\"C:\\Users\\adrij\\OneDrive\\Desktop\\ML_Seoul\\Model\\XGB_Regressor_r2_0_935_v1.pkl\"\n",
    "model=pickle.load(open(model_path,'rb'))"
   ]
  },
  {
   "cell_type": "code",
   "execution_count": 3,
   "id": "bb993e40",
   "metadata": {},
   "outputs": [
    {
     "data": {
      "text/plain": [
       "array([  59.36199, 1024.5222 ,  120.6338 ], dtype=float32)"
      ]
     },
     "execution_count": 3,
     "metadata": {},
     "output_type": "execute_result"
    }
   ],
   "source": [
    "model.predict([[-1.22822782, -1.83702861, -0.89784047,  1.3381486 ,  0.92871813,\n",
    "        -0.65083793, -0.13674625, -0.16889778, -0.23031028,  0.18708879,\n",
    "         0.15086595,  1.59058057, -3.31044474, -0.58218357, -0.58262298,\n",
    "         1.75882289, -0.39985101, -0.40535541,  2.36750703, -0.40845216,\n",
    "        -0.41414314, -0.40511677],\n",
    "       [-0.36298651,  0.65968727, -0.35608756, -0.21304574,  0.88418981,\n",
    "         1.26064814, -0.13674625, -0.16889778, -0.23031028,  0.18708879,\n",
    "        -0.98549323,  0.43114759,  0.30207422, -0.58218357,  1.71637582,\n",
    "        -0.56856208, -0.39985101, -0.40535541, -0.42238523, -0.40845216,\n",
    "         2.41462406, -0.40511677],\n",
    "       [-1.08402094,  0.97806043,  1.36767168,  2.21069542,  0.87594383,\n",
    "        -0.65083793, -0.13674625, -0.16889778, -0.23031028,  0.18708879,\n",
    "         1.51449697,  0.43114759,  0.30207422, -0.58218357,  1.71637582,\n",
    "        -0.56856208, -0.39985101, -0.40535541, -0.42238523, -0.40845216,\n",
    "        -0.41414314,  2.46842407]])"
   ]
  },
  {
   "cell_type": "code",
   "execution_count": null,
   "id": "1129a777",
   "metadata": {},
   "outputs": [],
   "source": []
  }
 ],
 "metadata": {
  "kernelspec": {
   "display_name": "Python 3 (ipykernel)",
   "language": "python",
   "name": "python3"
  },
  "language_info": {
   "codemirror_mode": {
    "name": "ipython",
    "version": 3
   },
   "file_extension": ".py",
   "mimetype": "text/x-python",
   "name": "python",
   "nbconvert_exporter": "python",
   "pygments_lexer": "ipython3",
   "version": "3.9.13"
  }
 },
 "nbformat": 4,
 "nbformat_minor": 5
}
